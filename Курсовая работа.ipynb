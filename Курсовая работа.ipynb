{
 "cells": [
  {
   "cell_type": "code",
   "execution_count": 2,
   "metadata": {},
   "outputs": [
    {
     "name": "stderr",
     "output_type": "stream",
     "text": [
      "C:\\Users\\User\\Anaconda3\\lib\\site-packages\\sklearn\\ensemble\\weight_boosting.py:29: DeprecationWarning: numpy.core.umath_tests is an internal NumPy module and should not be imported. It will be removed in a future NumPy release.\n",
      "  from numpy.core.umath_tests import inner1d\n"
     ]
    }
   ],
   "source": [
    "import numpy as np\n",
    "import pandas as pd\n",
    "import random\n",
    "\n",
    "from sklearn.model_selection import train_test_split, cross_val_score\n",
    "from sklearn.preprocessing import StandardScaler\n",
    "from sklearn.ensemble import RandomForestRegressor\n",
    "from sklearn.metrics import r2_score as r2\n",
    "from sklearn.model_selection import KFold, GridSearchCV\n",
    "\n",
    "TRAIN_DATASET_PATH = './Kurs_project_task/train.csv'\n",
    "TEST_DATASET_PATH = './Kurs_project_task/test.csv'"
   ]
  },
  {
   "cell_type": "code",
   "execution_count": 3,
   "metadata": {},
   "outputs": [],
   "source": [
    "train_df = pd.read_csv(TRAIN_DATASET_PATH)\n",
    "test_df = pd.read_csv(TEST_DATASET_PATH)"
   ]
  },
  {
   "cell_type": "code",
   "execution_count": 4,
   "metadata": {},
   "outputs": [],
   "source": [
    "district_size = train_df['DistrictId'].value_counts().reset_index()\\\n",
    "                .rename(columns={'index':'DistrictId', 'DistrictId':'DistrictSize'})\n",
    "med_price_by_district = train_df.groupby(['DistrictId', 'Rooms'], as_index=False).agg({'Price':'median'})\\\n",
    "                        .rename(columns={'Price':'MedPriceByDistrict'})"
   ]
  },
  {
   "cell_type": "code",
   "execution_count": 5,
   "metadata": {},
   "outputs": [],
   "source": [
    "def my_feature(train_df = train_df, train_test = 0, \n",
    "               split_par = 0.2, kitch_size = 3,room_median = 2, \n",
    "               HouseFloor = 1, sq_diff = 10, \n",
    "               district_size = district_size,med_price_by_district = med_price_by_district):\n",
    "    \n",
    "    train_df['Id'] = train_df['Id'].astype(str)\n",
    "    train_df['DistrictId'] = train_df['DistrictId'].astype(str)\n",
    "    district_size['DistrictId'] = district_size['DistrictId'].astype(str)\n",
    "    med_price_by_district['DistrictId'] = med_price_by_district['DistrictId'].astype(str)\n",
    "    train_df.loc[train_df['Rooms'].isin([0, 10, 19]), 'Rooms'] = room_median\n",
    "    \n",
    "    train_df.loc[train_df['KitchenSquare'] < 3, 'KitchenSquare'] = 3\n",
    "    train_df.loc[train_df['HouseFloor'] == 0, 'HouseFloor'] = HouseFloor\n",
    "    \n",
    "    floor_outliers = train_df.loc[train_df['Floor'] > train_df['HouseFloor']].index\n",
    "\n",
    "    train_df.loc[floor_outliers, 'Floor'] = train_df.loc[floor_outliers, 'HouseFloor'].apply(lambda x: random.randint(1, x))\n",
    "    \n",
    "    train_df.loc[train_df['HouseYear'] > 2020, 'HouseYear'] = 2019\n",
    "    \n",
    "    train_df.drop(['Healthcare_1'], axis = 1, inplace = True)\n",
    "    \n",
    "    train_df.loc[train_df['Square']<(train_df['LifeSquare']+train_df['KitchenSquare']), 'Square'] =\\\n",
    "    train_df.loc[train_df['Square']<(train_df['LifeSquare']+train_df['KitchenSquare']), 'LifeSquare'] +\\\n",
    "    train_df.loc[train_df['Square']<(train_df['LifeSquare']+train_df['KitchenSquare']), 'KitchenSquare'] +\\\n",
    "    sq_diff\n",
    "    \n",
    "    train_df['Ecology_2_bin'] = train_df['Ecology_2'].replace({'A':0, 'B':1})\n",
    "    train_df['Ecology_3_bin'] = train_df['Ecology_3'].replace({'A':0, 'B':1})\n",
    "    train_df['Shops_2_bin'] = train_df['Shops_2'].replace({'A':0, 'B':1})\n",
    "    \n",
    "    train_df = train_df.merge(district_size, on='DistrictId', how='left')\n",
    "    \n",
    "    train_df['IsDistrictLarge'] = (train_df['DistrictSize'] > 100).astype(int)\n",
    "    train_df = train_df.merge(med_price_by_district, on=['DistrictId', 'Rooms'], how='left')\n",
    "    feature_names = ['Rooms', 'Square', 'LifeSquare', 'KitchenSquare', 'Floor', 'HouseFloor', 'HouseYear',\n",
    "                 'Ecology_1', 'Ecology_2_bin', 'Ecology_3_bin', 'Social_1', 'Social_2', 'Social_3',\n",
    "                 'Helthcare_2', 'Shops_1', 'Shops_2_bin']\n",
    "\n",
    "    new_feature_names = ['IsDistrictLarge', 'MedPriceByDistrict']\n",
    "\n",
    "    target_name = 'Price'\n",
    "    X = train_df[feature_names + new_feature_names]\n",
    "    X_train,y_train = [],[]\n",
    "    X_test,y_test = X,[]\n",
    "    if train_test==1: \n",
    "        y = train_df[target_name]\n",
    "        X_train, X_test, y_train, y_test = train_test_split(X, y, test_size=split_par, shuffle=True, random_state=21)\n",
    "\n",
    "    return X_train,y_train,X_test,y_test\n",
    "\n",
    "test_df = pd.read_csv(TEST_DATASET_PATH)\n",
    "test_df['LifeSquare'] = test_df['LifeSquare'].fillna(test_df['LifeSquare'].median())\n",
    "\n",
    "\n",
    "_,_,Test_x,_ = my_feature(test_df, train_test = 0, \n",
    "                           split_par = 0.2, kitch_size = 3,room_median = 2, \n",
    "                           HouseFloor = 1, sq_diff = 10, \n",
    "                           district_size = district_size,\n",
    "                           med_price_by_district = med_price_by_district)\n",
    "Test_x['MedPriceByDistrict'] = Test_x['MedPriceByDistrict'].fillna(Test_x['MedPriceByDistrict'].median())"
   ]
  },
  {
   "cell_type": "code",
   "execution_count": 6,
   "metadata": {},
   "outputs": [],
   "source": [
    "train_df = pd.read_csv(TRAIN_DATASET_PATH)\n",
    "train_df['LifeSquare'] = train_df['LifeSquare'].fillna(train_df['LifeSquare'].median())\n",
    "X_train, y_train, X_test, y_test = my_feature(train_df, train_test = 1, \n",
    "                           split_par = 0.2, kitch_size = 3,room_median = 2, \n",
    "                           HouseFloor = 1, sq_diff = 10, \n",
    "                           district_size = district_size,\n",
    "                           med_price_by_district = med_price_by_district)"
   ]
  },
  {
   "cell_type": "code",
   "execution_count": 34,
   "metadata": {},
   "outputs": [
    {
     "data": {
      "text/plain": [
       "RandomForestRegressor(bootstrap=True, criterion='mse', max_depth=9,\n",
       "           max_features=8, max_leaf_nodes=None, min_impurity_decrease=0.0,\n",
       "           min_impurity_split=None, min_samples_leaf=1,\n",
       "           min_samples_split=2, min_weight_fraction_leaf=0.0,\n",
       "           n_estimators=150, n_jobs=1, oob_score=False, random_state=21,\n",
       "           verbose=0, warm_start=False)"
      ]
     },
     "execution_count": 34,
     "metadata": {},
     "output_type": "execute_result"
    }
   ],
   "source": [
    "rf_model = RandomForestRegressor(random_state=21, max_depth = 9, max_features = 8, n_estimators = 150)\n",
    "rf_model.fit(X_train, y_train)"
   ]
  },
  {
   "cell_type": "code",
   "execution_count": 35,
   "metadata": {},
   "outputs": [],
   "source": [
    "y_pred_test = rf_model.predict(X_test)"
   ]
  },
  {
   "cell_type": "code",
   "execution_count": 36,
   "metadata": {
    "scrolled": true
   },
   "outputs": [
    {
     "data": {
      "text/plain": [
       "0.7630618801337414"
      ]
     },
     "execution_count": 36,
     "metadata": {},
     "output_type": "execute_result"
    }
   ],
   "source": [
    "r2(y_test, y_pred_test)"
   ]
  },
  {
   "cell_type": "code",
   "execution_count": 39,
   "metadata": {},
   "outputs": [],
   "source": [
    "final_pred = rf_model.predict(Test_x)"
   ]
  },
  {
   "cell_type": "code",
   "execution_count": 68,
   "metadata": {
    "scrolled": true
   },
   "outputs": [],
   "source": [
    "final_df = pd.DataFrame(final_pred, columns = ['Price'], index = Test_x.index)"
   ]
  },
  {
   "cell_type": "code",
   "execution_count": 71,
   "metadata": {
    "scrolled": true
   },
   "outputs": [],
   "source": [
    "final_df.rename_axis('Id', inplace = True)"
   ]
  },
  {
   "cell_type": "code",
   "execution_count": 73,
   "metadata": {},
   "outputs": [],
   "source": [
    "final_df.to_csv('Varlamov_predictions.csv')"
   ]
  }
 ],
 "metadata": {
  "kernelspec": {
   "display_name": "Python 3",
   "language": "python",
   "name": "python3"
  },
  "language_info": {
   "codemirror_mode": {
    "name": "ipython",
    "version": 3
   },
   "file_extension": ".py",
   "mimetype": "text/x-python",
   "name": "python",
   "nbconvert_exporter": "python",
   "pygments_lexer": "ipython3",
   "version": "3.7.0"
  }
 },
 "nbformat": 4,
 "nbformat_minor": 2
}
